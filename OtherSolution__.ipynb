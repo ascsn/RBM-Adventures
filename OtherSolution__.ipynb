{
 "cells": [
  {
   "cell_type": "code",
   "execution_count": null,
   "metadata": {},
   "outputs": [],
   "source": []
  },
  {
   "cell_type": "markdown",
   "metadata": {},
   "source": [
    "M0 and M1 issues\n",
    "Change number of components to see the effect\n",
    "There should only be one eigenvalue, not two\n",
    "Alpha vectors should only be two values"
   ]
  },
  {
   "cell_type": "markdown",
   "id": "7e87508a-e47b-4c2f-8d02-222c6a39c7ac",
   "metadata": {},
   "source": [
    "\\begin{align}\n",
    "H_\\alpha\\phi(x)\\equiv \\bigg(-\\frac{d^2}{dx^2}+\\alpha x^2\\bigg)\\phi(x)=\\lambda\\phi(x),\\quad \\langle\\phi|\\phi\\rangle=1,\n",
    "\\end{align}"
   ]
  },
  {
   "cell_type": "markdown",
   "id": "9d184bb5-c5fd-4010-9bfb-d4424ce95695",
   "metadata": {},
   "source": [
    "\\begin{align}\n",
    "T\\phi(x)=-\\frac{d^2}{dx^2}\\phi(x),\\quad V_\\alpha(x)\\phi(x)=\\alpha x^2\\phi(x),\\quad H_\\alpha(x)=T+V(x).\n",
    "\\end{align}"
   ]
  },
  {
   "cell_type": "markdown",
   "id": "229ba1e1-72d8-48ca-ad21-e26dda7f4a4c",
   "metadata": {},
   "source": [
    "\n",
    "\\begin{align}\n",
    "\\bigg(-\\frac{d^2}{dx^2}+\\alpha x^2-\\lambda\\bigg)\\phi(x)\\equiv F_\\alpha(\\phi(x))=0,\n",
    "\\end{align}\n",
    "\n",
    "\n",
    "\\begin{align}\n",
    "F_\\alpha(\\phi(x))=0,\\quad\\langle\\phi|\\phi\\rangle=1.\n",
    "\\end{align}\n",
    "\n",
    "\\begin{align}\n",
    "\t\\hat{\\phi}_{\\alpha_{k}}(x) = \\sum_{i=1}^{n} a_{i} \\phi_{i}(x) .\n",
    "\\end{align}"
   ]
  },
  {
   "cell_type": "markdown",
   "id": "4da11a15-e15e-43cb-9bd3-80fae8469da5",
   "metadata": {},
   "source": [
    "Because we are solving an eigenvalue problem, we can arrive at a set of different-looking equations, using the same set of judges $\\{\\psi_i(x)\\}_{i=1}^n$ as before. We can simply plug $\\hat{\\phi}_{\\alpha_k}$ into the Schrodinger equation and project both sides onto the judges, writing\n",
    "\n",
    "\\begin{align}\n",
    "\\sum_{i=1}^na_i\\langle \\psi_j|H_{\\alpha_k}|\\phi_i\\rangle=\\lambda\\sum_{i=1}^na_i\\langle\\psi_j|\\phi_i\\rangle.\n",
    "\\end{align}\n",
    "\n",
    "Define now two matrices:\n",
    "\n",
    "\\begin{align}\n",
    "M_{ij}(\\alpha)\\equiv \\langle\\psi_j|H_\\alpha|\\phi_i\\rangle,\\quad N_{ij}\\equiv\\langle\\psi_j|\\phi_i\\rangle.\n",
    "\\end{align}\n",
    "\n",
    "These are both $n\\times n$ matrices, and we now have a generalized eigenvalue problem for $\\vec{a}$:\n",
    "\n",
    "\\begin{align}\n",
    "M(\\alpha)\\vec{a}=\\lambda N\\vec{a}.\n",
    "\\end{align}\n",
    "\n",
    "Situationally, this may be quicker to solve than finding the roots of the nonlinear system that results from the \"traditional\" RBM approach.\n",
    "\n",
    "As with traditional RBM approaches, this is only helpful if we can evaluate $M(\\alpha)$ quickly for different $\\alpha$ values. For the HO, this is not too hard: we can write\n",
    "\n",
    "\\begin{align}\n",
    "\\langle\\psi_j|H_\\alpha|\\phi_i\\rangle=\\langle\\psi_j|T|\\phi_i\\rangle+\\alpha\\langle \\psi_j|x^2|\\phi_i\\rangle\\equiv M_{ij}^{(0)}+\\alpha M_{ij}^{(1)}.\n",
    "\\end{align}\n",
    "\n",
    "Our eigenvalue equation is then\n",
    "\n",
    "\\begin{align}\n",
    "[M^{(0)}+\\alpha M^{(1)}]\\vec{a}=\\lambda N\\vec{a},\n",
    "\\end{align}\n",
    "\n",
    "and all of $M^{(0)},M^{(1)}$ and $N$ can be precomputed."
   ]
  },
  {
   "cell_type": "code",
   "execution_count": 31,
   "id": "6236ef9f-9fb7-418b-b5e0-0179920af9e7",
   "metadata": {},
   "outputs": [],
   "source": [
    "import numpy as np\n",
    "import scipy as sci\n",
    "from scipy import linalg"
   ]
  },
  {
   "cell_type": "code",
   "execution_count": 32,
   "id": "6908d0ca-5730-4a7c-a90e-a106bdf50439",
   "metadata": {},
   "outputs": [],
   "source": [
    "# Second Derivative\n",
    "# Potential Matrix\n",
    "# Components \n",
    "# Alphas \n",
    "# Projecting Functions (Components) \n",
    "\n",
    "def second_derivative_matrix(xgrid):\n",
    "    N = len(xgrid)\n",
    "    dx = xgrid[1] - xgrid[0]\n",
    "\n",
    "    # Generate the matrix for the second derivative using a five-point stencil\n",
    "    main_diag = np.ones(N) * (-5.0 / 2 / dx**2)\n",
    "    off_diag = np.ones(N - 1) * 4 / 3 / dx**2\n",
    "    off_diag2 = np.ones(N - 2) * (-1.0 / (12 * dx**2))\n",
    "\n",
    "    D2 = np.diag(main_diag) + np.diag(off_diag, k=1) + np.diag(\n",
    "      off_diag, k=-1) + np.diag(off_diag2, k=2) + np.diag(off_diag2, k=-2)\n",
    "\n",
    "    return D2\n",
    "\n",
    "def potential_matrix(xgrid):\n",
    "    return np.diag(xgrid**2)\n",
    "\n",
    "def H_creator(alpha, xgrid):\n",
    "    d2 = second_derivative_matrix(xgrid)\n",
    "    pot = potential_matrix(xgrid)\n",
    "    H = d2 + alpha*pot\n",
    "    return H\n",
    "\n",
    "def hf_solve(H):\n",
    "    evals, evects = np.linalg.eigh(H)\n",
    "    return evals, evects\n"
   ]
  },
  {
   "cell_type": "code",
   "execution_count": 33,
   "id": "776aae44-635a-4cc7-b2ec-80b6ecb0dc49",
   "metadata": {},
   "outputs": [],
   "source": [
    "alphas = [.5,2,5]\n",
    "x_max = 10.0\n",
    "h = 10**(-1)\n",
    "x = np.arange(-x_max, x_max + h, h)\n",
    "m = np.zeros((len(alphas), x.shape[0]))\n",
    "\n",
    "for i in range(len(alphas)):\n",
    "    alpha = alphas[i]\n",
    "    H = H_creator(alpha, x)\n",
    "    evals, evects = hf_solve(H)\n",
    "    # m[i] = evects[0] / np.linalg.norm(evects[0])*np.sign(evects[0][  int(len(x)/2)  ])\n",
    "    m[i] = evects[:,i] "
   ]
  },
  {
   "cell_type": "code",
   "execution_count": 34,
   "id": "a681433b-d7de-49e5-8f6b-b844078a5f2c",
   "metadata": {},
   "outputs": [
    {
     "name": "stdout",
     "output_type": "stream",
     "text": [
      "3\n"
     ]
    }
   ],
   "source": [
    "U, sigma, Vh = np.linalg.svd(m)\n",
    "#components = 3\n",
    "components = len(m)\n",
    "print(components)\n",
    "reduced_basis = Vh[:components]\n",
    "\n",
    "reduced_basis = [reduced_basis[i]*np.sign(reduced_basis[i][  int(len(x)/2)  ]) for i in range(len(reduced_basis))]"
   ]
  },
  {
   "cell_type": "code",
   "execution_count": 35,
   "id": "1f49dcb1-cae5-45e5-96db-a26a1492f5ba",
   "metadata": {},
   "outputs": [],
   "source": [
    "# psi = np.array(reduced_basis)\n",
    "# phi = np.array(reduced_basis)\n",
    "psi = m\n",
    "phi = m"
   ]
  },
  {
   "cell_type": "code",
   "execution_count": 36,
   "id": "05028385-5724-40b6-93ec-8266a045661b",
   "metadata": {},
   "outputs": [],
   "source": [
    "d2 = second_derivative_matrix(x)\n",
    "pot = potential_matrix(x)"
   ]
  },
  {
   "cell_type": "code",
   "execution_count": 37,
   "id": "e6c45cdf-533a-4f3c-bbc1-bb7bd8ab1da6",
   "metadata": {},
   "outputs": [],
   "source": [
    "# def M0(psi, phi, d2, i, j):\n",
    "#     inner_product = np.dot(psi[j], phi[i])\n",
    "#     result_vector = np.dot(d2, psi[j])\n",
    "#     M0 = np.dot(result_vector, phi[i])\n",
    "#     return M0\n",
    "\n",
    "def M0(psi, phi, d2, i, j):\n",
    "    M0 = np.dot(psi[j], np.dot(d2, phi[i]))\n",
    "    return M0"
   ]
  },
  {
   "cell_type": "code",
   "execution_count": 38,
   "id": "1aa7e34b-3ca6-47f0-bc59-4998a45c75a1",
   "metadata": {},
   "outputs": [],
   "source": [
    "# def M1(psi, phi, pot, i, j):\n",
    "#     inner_product = np.dot(psi[j], phi[i])\n",
    "#     result_vector = np.dot(pot, psi[j])\n",
    "#     M1 = np.dot(result_vector, phi[i])\n",
    "#     return M1\n",
    "\n",
    "def M1(psi, phi, pot, i, j):\n",
    "    M1 = np.dot(psi[j], np.dot(pot, phi[i]))\n",
    "    return M1"
   ]
  },
  {
   "cell_type": "code",
   "execution_count": 39,
   "id": "58deed5b-e0eb-46e9-9179-0ebdbb4a45a8",
   "metadata": {},
   "outputs": [],
   "source": [
    "compvec = np.zeros(components)\n",
    "array = []\n",
    "for i in range(components):\n",
    "    array.append(compvec)\n",
    "H_hat = np.array(array)\n",
    "N = np.array(array)\n"
   ]
  },
  {
   "cell_type": "markdown",
   "metadata": {},
   "source": [
    "[ ⟨𝜓₀|d2|𝜙₀⟩ + α⟨𝜓₁|pot|𝜙₀⟩   ⟨𝜓₁|d2|𝜙₀⟩ + α⟨𝜓₁|pot|𝜙₀⟩   ⟨𝜓₂|d2|𝜙₀⟩ + α⟨𝜓₂|pot|𝜙₀⟩ ]\n",
    "[ ⟨𝜓₀|d2|𝜙₁⟩ + α⟨𝜓₀|pot|𝜙₁⟩   ⟨𝜓₁|d2|𝜙₁⟩ + α⟨𝜓₁|pot|𝜙₁⟩   ⟨𝜓₂|d2|𝜙₁⟩ + α⟨𝜓₂|pot|𝜙₁⟩ ]\n",
    "[ ⟨𝜓₀|d2|𝜙₂⟩ + α⟨𝜓₀|pot|𝜙₂⟩   ⟨𝜓₁|d2|𝜙₂⟩ + α⟨𝜓₁|pot|𝜙₂⟩   ⟨𝜓₂|d2|𝜙₂⟩ + α⟨𝜓₂|pot|𝜙₂⟩ ]"
   ]
  },
  {
   "cell_type": "markdown",
   "metadata": {},
   "source": []
  },
  {
   "cell_type": "code",
   "execution_count": 50,
   "id": "b3935ce6-f2e7-47d8-896a-cd4e4170e379",
   "metadata": {},
   "outputs": [],
   "source": [
    "def create_H_hat(alpha, phi, psi, pot, d2):\n",
    "    for i in range(components):\n",
    "        for j in range(len(H_hat[i])):\n",
    "            H_hat[i][j] = M0(psi, phi, d2, i, j) + alpha*M1(psi,phi,pot,i,j)\n",
    "    return H_hat"
   ]
  },
  {
   "cell_type": "code",
   "execution_count": 51,
   "id": "c89ae7ba-be29-4e1c-9f8c-21187bc13847",
   "metadata": {},
   "outputs": [
    {
     "name": "stdout",
     "output_type": "stream",
     "text": [
      "[[-5.28317544e+02  1.04328542e-11 -1.76157357e+02]\n",
      " [ 1.04319227e-11 -5.23773215e+02 -1.36391246e-11]\n",
      " [-1.76157357e+02 -1.36499562e-11 -5.18964718e+02]]\n"
     ]
    }
   ],
   "source": [
    "H_hat = create_H_hat(5, phi, psi, pot, d2)\n",
    "print(H_hat)"
   ]
  },
  {
   "cell_type": "code",
   "execution_count": 52,
   "id": "fd48d528-af41-4672-bee5-08d840e23d4b",
   "metadata": {},
   "outputs": [],
   "source": [
    "def create_N(psi, phi):\n",
    "    for i in range(len(N[0])):\n",
    "        for j in range(len(N[1])):\n",
    "            N[i,j] = np.dot(psi[j], phi[i])\n",
    "    return N"
   ]
  },
  {
   "cell_type": "code",
   "execution_count": 53,
   "id": "feaa7261-01d5-4ac0-a280-d598b73374da",
   "metadata": {},
   "outputs": [
    {
     "name": "stdout",
     "output_type": "stream",
     "text": [
      "[[ 1.00000000e+00 -1.98027358e-14  3.39439949e-01]\n",
      " [-1.98027358e-14  1.00000000e+00  2.62637134e-14]\n",
      " [ 3.39439949e-01  2.62637134e-14  1.00000000e+00]]\n",
      "[[1. 0. 0.]\n",
      " [0. 1. 0.]\n",
      " [0. 0. 1.]]\n"
     ]
    }
   ],
   "source": [
    "N = create_N(psi, phi)\n",
    "print(N)\n",
    "for i in range(len(N)):\n",
    "    for j in range(len(N[i])):\n",
    "        if N[i][j] < .99:\n",
    "            N[i][j] = 0\n",
    "print(N)"
   ]
  },
  {
   "cell_type": "code",
   "execution_count": 54,
   "id": "e1844e46-6493-458e-a423-7cd661a4e584",
   "metadata": {},
   "outputs": [
    {
     "name": "stdout",
     "output_type": "stream",
     "text": [
      "[[1. 0. 0.]\n",
      " [0. 1. 0.]\n",
      " [0. 0. 1.]]\n",
      "[[-5.28317544e+02  1.04328542e-11 -1.76157357e+02]\n",
      " [ 1.04319227e-11 -5.23773215e+02 -1.36391246e-11]\n",
      " [-1.76157357e+02 -1.36499562e-11 -5.18964718e+02]]\n",
      "-699.8605495298534\n"
     ]
    }
   ],
   "source": [
    "def solve(N, H_hat):\n",
    "    print(N)\n",
    "    print(H_hat)\n",
    "    evals, evects = sci.linalg.eigh(H_hat, b = N)\n",
    "    eigenvalue = evals[0]\n",
    "    return eigenvalue, evects\n",
    "\n",
    "eval, a_vecs = solve(N, H_hat)\n",
    "print(eval)"
   ]
  },
  {
   "cell_type": "code",
   "execution_count": 55,
   "id": "9dd4fd45-1c5e-49a2-894d-648fdd733414",
   "metadata": {},
   "outputs": [
    {
     "name": "stdout",
     "output_type": "stream",
     "text": [
      "2.23606797749979\n"
     ]
    }
   ],
   "source": [
    "def ExactEigenvalue(alpha):\n",
    "    return 2 * (.5) * np.sqrt(alpha / 1**2)\n",
    "print(ExactEigenvalue(5))"
   ]
  }
 ],
 "metadata": {
  "kernelspec": {
   "display_name": "Python 3 (ipykernel)",
   "language": "python",
   "name": "python3"
  },
  "language_info": {
   "codemirror_mode": {
    "name": "ipython",
    "version": 3
   },
   "file_extension": ".py",
   "mimetype": "text/x-python",
   "name": "python",
   "nbconvert_exporter": "python",
   "pygments_lexer": "ipython3",
   "version": "3.10.8"
  }
 },
 "nbformat": 4,
 "nbformat_minor": 5
}

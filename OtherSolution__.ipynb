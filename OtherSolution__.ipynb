{
 "cells": [
  {
   "cell_type": "code",
   "execution_count": null,
   "id": "7a570c64-de40-481f-8213-e6873e23e447",
   "metadata": {},
   "outputs": [],
   "source": []
  },
  {
   "cell_type": "markdown",
   "id": "7e87508a-e47b-4c2f-8d02-222c6a39c7ac",
   "metadata": {},
   "source": [
    "\\begin{align}\n",
    "H_\\alpha\\phi(x)\\equiv \\bigg(-\\frac{d^2}{dx^2}+\\alpha x^2\\bigg)\\phi(x)=\\lambda\\phi(x),\\quad \\langle\\phi|\\phi\\rangle=1,\n",
    "\\end{align}"
   ]
  },
  {
   "cell_type": "markdown",
   "id": "9d184bb5-c5fd-4010-9bfb-d4424ce95695",
   "metadata": {},
   "source": [
    "\\begin{align}\n",
    "T\\phi(x)=-\\frac{d^2}{dx^2}\\phi(x),\\quad V_\\alpha(x)\\phi(x)=\\alpha x^2\\phi(x),\\quad H_\\alpha(x)=T+V(x).\n",
    "\\end{align}"
   ]
  },
  {
   "cell_type": "markdown",
   "id": "229ba1e1-72d8-48ca-ad21-e26dda7f4a4c",
   "metadata": {},
   "source": [
    "\n",
    "\\begin{align}\n",
    "\\bigg(-\\frac{d^2}{dx^2}+\\alpha x^2-\\lambda\\bigg)\\phi(x)\\equiv F_\\alpha(\\phi(x))=0,\n",
    "\\end{align}\n",
    "\n",
    "\n",
    "\\begin{align}\n",
    "F_\\alpha(\\phi(x))=0,\\quad\\langle\\phi|\\phi\\rangle=1.\n",
    "\\end{align}\n",
    "\n",
    "\\begin{align}\n",
    "\t\\hat{\\phi}_{\\alpha_{k}}(x) = \\sum_{i=1}^{n} a_{i} \\phi_{i}(x) .\n",
    "\\end{align}"
   ]
  },
  {
   "cell_type": "markdown",
   "id": "4da11a15-e15e-43cb-9bd3-80fae8469da5",
   "metadata": {},
   "source": [
    "Because we are solving an eigenvalue problem, we can arrive at a set of different-looking equations, using the same set of judges $\\{\\psi_i(x)\\}_{i=1}^n$ as before. We can simply plug $\\hat{\\phi}_{\\alpha_k}$ into the Schrodinger equation and project both sides onto the judges, writing\n",
    "\n",
    "\\begin{align}\n",
    "\\sum_{i=1}^na_i\\langle \\psi_j|H_{\\alpha_k}|\\phi_i\\rangle=\\lambda\\sum_{i=1}^na_i\\langle\\psi_j|\\phi_i\\rangle.\n",
    "\\end{align}\n",
    "\n",
    "Define now two matrices:\n",
    "\n",
    "\\begin{align}\n",
    "M_{ij}(\\alpha)\\equiv \\langle\\psi_j|H_\\alpha|\\phi_i\\rangle,\\quad N_{ij}\\equiv\\langle\\psi_j|\\phi_i\\rangle.\n",
    "\\end{align}\n",
    "\n",
    "These are both $n\\times n$ matrices, and we now have a generalized eigenvalue problem for $\\vec{a}$:\n",
    "\n",
    "\\begin{align}\n",
    "M(\\alpha)\\vec{a}=\\lambda N\\vec{a}.\n",
    "\\end{align}\n",
    "\n",
    "Situationally, this may be quicker to solve than finding the roots of the nonlinear system that results from the \"traditional\" RBM approach.\n",
    "\n",
    "As with traditional RBM approaches, this is only helpful if we can evaluate $M(\\alpha)$ quickly for different $\\alpha$ values. For the HO, this is not too hard: we can write\n",
    "\n",
    "\\begin{align}\n",
    "\\langle\\psi_j|H_\\alpha|\\phi_i\\rangle=\\langle\\psi_j|T|\\phi_i\\rangle+\\alpha\\langle \\psi_j|x^2|\\phi_i\\rangle\\equiv M_{ij}^{(0)}+\\alpha M_{ij}^{(1)}.\n",
    "\\end{align}\n",
    "\n",
    "Our eigenvalue equation is then\n",
    "\n",
    "\\begin{align}\n",
    "[M^{(0)}+\\alpha M^{(1)}]\\vec{a}=\\lambda N\\vec{a},\n",
    "\\end{align}\n",
    "\n",
    "and all of $M^{(0)},M^{(1)}$ and $N$ can be precomputed."
   ]
  },
  {
   "cell_type": "code",
   "execution_count": 5,
   "id": "6236ef9f-9fb7-418b-b5e0-0179920af9e7",
   "metadata": {},
   "outputs": [],
   "source": [
    "import numpy as np"
   ]
  },
  {
   "cell_type": "code",
   "execution_count": 15,
   "id": "6908d0ca-5730-4a7c-a90e-a106bdf50439",
   "metadata": {},
   "outputs": [],
   "source": [
    "# Second Derivative\n",
    "# Potential Matrix\n",
    "# Components \n",
    "# Alphas \n",
    "# Projecting Functions (Components) \n",
    "\n",
    "def second_derivative_matrix(xgrid):\n",
    "    N = len(xgrid)\n",
    "    dx = xgrid[1] - xgrid[0]\n",
    "\n",
    "    # Generate the matrix for the second derivative using a five-point stencil\n",
    "    main_diag = np.ones(N) * (-5.0 / 2 / dx**2)\n",
    "    off_diag = np.ones(N - 1) * 4 / 3 / dx**2\n",
    "    off_diag2 = np.ones(N - 2) * (-1.0 / (12 * dx**2))\n",
    "\n",
    "    D2 = np.diag(main_diag) + np.diag(off_diag, k=1) + np.diag(\n",
    "      off_diag, k=-1) + np.diag(off_diag2, k=2) + np.diag(off_diag2, k=-2)\n",
    "\n",
    "    return D2\n",
    "\n",
    "def potential_matrix(xgrid):\n",
    "    return np.diag(xgrid**2)\n",
    "\n",
    "def H_creator(alpha, xgrid):\n",
    "    d2 = second_derivative_matrix(xgrid)\n",
    "    pot = potential_matrix(xgrid)\n",
    "    H = d2 + alpha*pot\n",
    "    return H\n",
    "\n",
    "def hf_solve(H):\n",
    "    evals, evects = np.linalg.eigh(H)\n",
    "    return evals, evects\n"
   ]
  },
  {
   "cell_type": "code",
   "execution_count": 16,
   "id": "776aae44-635a-4cc7-b2ec-80b6ecb0dc49",
   "metadata": {},
   "outputs": [
    {
     "name": "stdout",
     "output_type": "stream",
     "text": [
      "[[ 1.59375851e-18  3.54158582e-19  2.98255579e-18 ...  1.69458390e-01\n",
      "  -0.00000000e+00 -1.76780038e-01]\n",
      " [ 9.39734750e-20  7.46981177e-20  1.76799944e-19 ...  2.05298420e-01\n",
      "   0.00000000e+00 -2.15217046e-01]\n",
      " [-1.84513069e-19 -1.18438145e-19 -2.69220837e-19 ... -2.59139604e-01\n",
      "   0.00000000e+00  2.74505623e-01]\n",
      " ...\n",
      " [ 4.01084556e-24  3.24174880e-24  4.76079493e-24 ... -3.47653395e-01\n",
      "   0.00000000e+00  3.77723171e-01]\n",
      " [ 3.78575973e-27  3.01439728e-27  3.48417922e-27 ...  3.73360592e-01\n",
      "  -0.00000000e+00 -4.09661491e-01]\n",
      " [ 2.37622016e-30 -2.14249020e-29 -1.37918185e-28 ...  4.05558804e-01\n",
      "  -0.00000000e+00 -4.51537292e-01]]\n"
     ]
    }
   ],
   "source": [
    "alphas = [2,3,5,7,10,12,15]\n",
    "x_max = 10.0\n",
    "h = 10**(-1)\n",
    "x = np.arange(-x_max, x_max + h, h)\n",
    "m = np.zeros((len(alphas), x.shape[0]))\n",
    "\n",
    "for i in range(len(alphas)):\n",
    "    alpha = alphas[i]\n",
    "    H = H_creator(alpha, x)\n",
    "    evals, evects = hf_solve(H)\n",
    "    m[i] = evects[0] / np.linalg.norm(evects[0])*np.sign(evects[0][  int(len(x)/2)  ])"
   ]
  },
  {
   "cell_type": "code",
   "execution_count": 18,
   "id": "a681433b-d7de-49e5-8f6b-b844078a5f2c",
   "metadata": {},
   "outputs": [],
   "source": [
    "U, sigma, Vh = np.linalg.svd(m)\n",
    "components = 2\n",
    "reduced_basis = Vh[:components]\n",
    "\n",
    "reduced_basis = [reduced_basis[i]*np.sign(reduced_basis[i][  int(len(x)/2)  ]) for i in range(len(reduced_basis))]"
   ]
  },
  {
   "cell_type": "code",
   "execution_count": 66,
   "id": "1f49dcb1-cae5-45e5-96db-a26a1492f5ba",
   "metadata": {},
   "outputs": [],
   "source": [
    "psi = np.array(reduced_basis)\n",
    "phi = np.array(reduced_basis)"
   ]
  },
  {
   "cell_type": "code",
   "execution_count": 67,
   "id": "05028385-5724-40b6-93ec-8266a045661b",
   "metadata": {},
   "outputs": [],
   "source": [
    "d2 = second_derivative_matrix(x)\n",
    "pot = potential_matrix(x)"
   ]
  },
  {
   "cell_type": "code",
   "execution_count": 81,
   "id": "e6c45cdf-533a-4f3c-bbc1-bb7bd8ab1da6",
   "metadata": {},
   "outputs": [],
   "source": [
    "def M0(psi, phi, d2, i, j):\n",
    "    inner_product = np.dot(psi[j], phi[i])\n",
    "    result_vector = np.dot(d2, psi[j])\n",
    "    M0 = np.dot(result_vector, phi[i])\n",
    "    return M0"
   ]
  },
  {
   "cell_type": "code",
   "execution_count": 82,
   "id": "1aa7e34b-3ca6-47f0-bc59-4998a45c75a1",
   "metadata": {},
   "outputs": [],
   "source": [
    "def M1(psi, phi, pot, i, j):\n",
    "    inner_product = np.dot(psi[j], phi[i])\n",
    "    result_vector = np.dot(pot, psi[j])\n",
    "    M1 = np.dot(result_vector, phi[i])\n",
    "    return M1"
   ]
  },
  {
   "cell_type": "code",
   "execution_count": 87,
   "id": "58deed5b-e0eb-46e9-9179-0ebdbb4a45a8",
   "metadata": {},
   "outputs": [],
   "source": [
    "compvec = np.zeros(components)\n",
    "H_hat = np.array([compvec,compvec])\n",
    "N = np.array([compvec,compvec])"
   ]
  },
  {
   "cell_type": "code",
   "execution_count": 84,
   "id": "b3935ce6-f2e7-47d8-896a-cd4e4170e379",
   "metadata": {},
   "outputs": [],
   "source": [
    "def create_H_hat(alpha, phi, psi, pot, d2):\n",
    "    for i in range(len(H_hat[0])):\n",
    "        for j in range(len(H_hat[1])):\n",
    "            H_hat[i][j] = M0(psi, phi, d2, i, j) + alpha*M1(psi,phi,pot,i,j)\n",
    "    return H_hat"
   ]
  },
  {
   "cell_type": "code",
   "execution_count": 85,
   "id": "c89ae7ba-be29-4e1c-9f8c-21187bc13847",
   "metadata": {},
   "outputs": [
    {
     "name": "stdout",
     "output_type": "stream",
     "text": [
      "[[190.49400675  35.89065947]\n",
      " [ 35.89065947  66.59441513]]\n"
     ]
    }
   ],
   "source": [
    "H_hat = create_H_hat(5, phi, psi, pot, d2)\n",
    "print(H_hat)"
   ]
  },
  {
   "cell_type": "code",
   "execution_count": 91,
   "id": "fd48d528-af41-4672-bee5-08d840e23d4b",
   "metadata": {},
   "outputs": [],
   "source": [
    "def create_N(psi, phi):\n",
    "    for i in range(len(N[0])):\n",
    "        for j in range(len(N[1])):\n",
    "            N[i,j] = np.dot(psi[j], phi[1])\n",
    "            print(i, j)\n",
    "    return N"
   ]
  },
  {
   "cell_type": "code",
   "execution_count": 92,
   "id": "feaa7261-01d5-4ac0-a280-d598b73374da",
   "metadata": {},
   "outputs": [
    {
     "name": "stdout",
     "output_type": "stream",
     "text": [
      "0 0\n",
      "0 1\n",
      "1 0\n",
      "1 1\n",
      "[[1.42247325e-16 1.00000000e+00]\n",
      " [1.42247325e-16 1.00000000e+00]]\n"
     ]
    }
   ],
   "source": [
    "N = create_N(psi, phi)\n",
    "print(N)"
   ]
  },
  {
   "cell_type": "code",
   "execution_count": null,
   "id": "e1844e46-6493-458e-a423-7cd661a4e584",
   "metadata": {},
   "outputs": [],
   "source": [
    "def solve(N, H_hat):\n",
    "    "
   ]
  },
  {
   "cell_type": "code",
   "execution_count": null,
   "id": "9dd4fd45-1c5e-49a2-894d-648fdd733414",
   "metadata": {},
   "outputs": [],
   "source": []
  }
 ],
 "metadata": {
  "kernelspec": {
   "display_name": "Python 3 (ipykernel)",
   "language": "python",
   "name": "python3"
  },
  "language_info": {
   "codemirror_mode": {
    "name": "ipython",
    "version": 3
   },
   "file_extension": ".py",
   "mimetype": "text/x-python",
   "name": "python",
   "nbconvert_exporter": "python",
   "pygments_lexer": "ipython3",
   "version": "3.10.8"
  }
 },
 "nbformat": 4,
 "nbformat_minor": 5
}

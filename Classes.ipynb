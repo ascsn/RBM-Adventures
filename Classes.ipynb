{
 "cells": [
  {
   "cell_type": "markdown",
   "metadata": {},
   "source": [
    "### Table of Contents\n",
    "#### Introduction to Quantum Harmonic Oscillator\n",
    "#### High Fidelity Solver\n",
    "##### - Finite Difference Method\n",
    "##### - Comparison to Exact\n",
    "#### Reduced Basic Method\n",
    "##### - M0, M1, and N Matrices\n",
    "##### - Compare Solutions "
   ]
  },
  {
   "cell_type": "markdown",
   "metadata": {},
   "source": [
    "### Introduction to Quantum Harmonic Oscillator\n",
    "The quantum harmomic oscillator is a widely studied model in quantum mechanics that describes the behavior of a particle undergoing harmonic motion. In classical physics, this would be simple harmonic motion. However, quantum mechanics complicates this behavior. The function takes in a parameter alpha, which is a constant. \n",
    "\n",
    "In the context of the Schrödinger Equation, the quantum harmonic oscillator is a formulation of it. It can be represented mathematically in the equation below:\n",
    "\n",
    "$$ (\\frac{d^2}{dx^2} + \\alpha x^2 - \\lambda )\\phi(x) = 0 $$"
   ]
  },
  {
   "cell_type": "markdown",
   "metadata": {},
   "source": [
    "Here are the libraries we will use in the following code"
   ]
  },
  {
   "cell_type": "code",
   "execution_count": 1,
   "metadata": {},
   "outputs": [],
   "source": [
    "import numpy as np\n",
    "import matplotlib.pyplot as plt\n",
    "import time\n",
    "import scipy as sci\n",
    "from scipy import optimize\n",
    "import time as ti\n",
    "from scipy import linalg"
   ]
  },
  {
   "cell_type": "markdown",
   "metadata": {},
   "source": [
    "Because the quantum harmonic oscillator is a relatively simple quantum system, analytical solutions for the system are known. To test the efficiency of our code, we can check against the analytical solutions to determine the exact error. "
   ]
  },
  {
   "cell_type": "code",
   "execution_count": 2,
   "metadata": {},
   "outputs": [],
   "source": [
    "def getExactLambda(alpha):\n",
    "  n = 0\n",
    "  return 2 * (.5 + n) * np.sqrt(alpha / 1**2)"
   ]
  },
  {
   "cell_type": "markdown",
   "metadata": {},
   "source": [
    "### High Fidelity Solver\n",
    "#### Finite Difference Method\n",
    "Finite difference method discretizes the space and divides the wavefunction of the particle into some amount of points. We can use this to simplify the wavefunction and treat it as a collection of points. This method is meant to find the high fidelity solution to the system. We do not need to use the finite difference method as our high fidelity solver, but it works pretty well"
   ]
  },
  {
   "cell_type": "markdown",
   "metadata": {},
   "source": [
    "Here are the libraries we will use in the following code"
   ]
  },
  {
   "cell_type": "markdown",
   "metadata": {},
   "source": [
    "The FDM class is used for solving the system with the finite difference method. It involves creating the kinetic energy term, the potential energy term, adding them together, and solving for the eigenvalues and eigenvectors. Take a look at the following code and the corresponding comments. "
   ]
  },
  {
   "cell_type": "code",
   "execution_count": 3,
   "metadata": {},
   "outputs": [],
   "source": [
    "class FDM:\n",
    "    \n",
    "    def __init__(self, h, timingInt):\n",
    "        \"\"\"\n",
    "        The two parameters are h and the timing integer. \n",
    "        The number of points on the matrix is decided by h. A smaller h value means more points, but also more time to run. \n",
    "        The second parameter is the timing integer. The purpose of this value will become clearer in the timing function. \n",
    "        \"\"\"\n",
    "        self.h = h\n",
    "        self.timingInt = timingInt\n",
    "        self.x_max = 10.0\n",
    "        self.x = np.arange(-self.x_max, self.x_max + h, h)\n",
    "        \n",
    "    def xShape(self):\n",
    "        # This is used for creating the m matrix later on, but doesn't play much of a role in finding the solutions. \n",
    "        return self.x, self.x.shape[0]\n",
    "\n",
    "    def hf_second_derivative(self):\n",
    "        # We create the second derivative (kinetic energy) matrix here. \n",
    "        N = len(self.x)\n",
    "        dx = self.x[1] - self.x[0]\n",
    "\n",
    "        # Generate the matrix for the second derivative using a five-point stencil\n",
    "        main_diag = np.ones(N) * (-5.0 / 2 / dx**2)\n",
    "        off_diag = np.ones(N - 1) * 4 / 3 / dx**2\n",
    "        off_diag2 = np.ones(N - 2) * (-1.0 / (12 * dx**2))\n",
    "\n",
    "        D2 = np.diag(main_diag) + np.diag(off_diag, k=1) + np.diag(\n",
    "            off_diag, k=-1) + np.diag(off_diag2, k=2) + np.diag(off_diag2, k=-2)\n",
    "\n",
    "        return D2\n",
    "\n",
    "    def hf_potential(self):\n",
    "        # We create the potential energy matrix here\n",
    "        return np.diag(self.x**2)\n",
    "\n",
    "    def HO_creator(self, alpha):\n",
    "        # HO_creator puts the matrices together and accounts for some value of alpha \n",
    "        D2Mat = self.hf_second_derivative()\n",
    "        vpot = self.hf_potential()\n",
    "        return -D2Mat + alpha * vpot\n",
    "\n",
    "    def timing(self, H):\n",
    "        \"\"\"\n",
    "        In the timing function, we solve the solution many times and get the average of the times. \n",
    "        This helps to boost the accuracy of the time value. The timingInt value determines how many times to collect. \n",
    "        \"\"\"\n",
    "        solveTime = []\n",
    "        for i in range(self.timingInt):\n",
    "            time0 = time.time()\n",
    "            evals, evects = np.linalg.eigh(H)\n",
    "            time1 = time.time()\n",
    "            solveTime.append(time1 - time0)\n",
    "        avg = sum(solveTime) / len(solveTime)\n",
    "        return avg\n",
    "\n",
    "    def HO_solver(self, alpha):\n",
    "        # We use the numpy linalg.eigh function to solve for the eigenvalues and eigenvectors of the matrix. \n",
    "        H = self.HO_creator(alpha)\n",
    "        evals, evects = np.linalg.eigh(H)\n",
    "        solveTime = self.timing(H)\n",
    "        evects= evects.T\n",
    "        m_val = evects[0] / np.linalg.norm(evects[0])*np.sign(evects[0][  int(len(self.x)/2) ])\n",
    "        return evals, evects, solveTime, m_val\n"
   ]
  },
  {
   "cell_type": "markdown",
   "metadata": {},
   "source": [
    "The following sections of code are used for a graphical representation of the high fidelity solution. Below, we loop through different h values, and alphas to determine the time and error of solving with the fininite difference method. "
   ]
  },
  {
   "cell_type": "code",
   "execution_count": 4,
   "metadata": {},
   "outputs": [],
   "source": [
    "def HF_solutions(alphas, h):\n",
    "    timingInt = 10\n",
    "    tempTimes = []\n",
    "    tempErrors = []\n",
    "    fdm_instance = FDM(h, timingInt)\n",
    "\n",
    "    for i in range(len(alphas)):\n",
    "        alpha = alphas[i]\n",
    "        # We used the classes' function HO_solver() to solve the equation for different alpha values\n",
    "        evals, evects, t1me, m_val = fdm_instance.HO_solver(alpha)\n",
    "\n",
    "        # We use our exact solution to compare to the calculated eigenvalue\n",
    "        exactEigenvalue = getExactLambda(alpha)\n",
    "        err = abs((evals[0] - exactEigenvalue) / exactEigenvalue)\n",
    "        \n",
    "        tempTimes.append(t1me)\n",
    "        tempErrors.append(err)\n",
    "    return tempTimes, tempErrors"
   ]
  },
  {
   "cell_type": "markdown",
   "metadata": {},
   "source": [
    "Please be aware that this next section of code takes a while to run! This is why RBM is so important!"
   ]
  },
  {
   "cell_type": "code",
   "execution_count": null,
   "metadata": {},
   "outputs": [],
   "source": [
    "h_list = [.1, .05, .03, .025]\n",
    "# Here we establish many numerical values so that we can find solve the Schrödinger Equation for many different alpha values\n",
    "alphaList = np.arange(5,250,2.5)\n",
    "timingInt = 10\n",
    "# htimes and herrors will store the times and errors for the high fidelity solution\n",
    "htimes = []\n",
    "herrors = []\n",
    "\n",
    "maxErr = []\n",
    "maxTimes = []\n",
    "minErr = []\n",
    "minTimes = []\n",
    "# We want to test different h values to observe a change in accuracy as the number of points increases. \n",
    "for h in h_list:\n",
    "    # We only need one instance of the class, but we will solve for different alpha values\n",
    "    times, errors = HF_solutions(alphaList, h)\n",
    "\n",
    "    # We need these values for the limits on the graph\n",
    "    maxErr.append(max(errors))\n",
    "    maxTimes.append(max(times))\n",
    "    minErr.append(min(errors))\n",
    "    minTimes.append(min(times))\n",
    "\n",
    "    htimes.append(times)\n",
    "    herrors.append(errors)"
   ]
  },
  {
   "cell_type": "markdown",
   "metadata": {},
   "source": [
    "\n",
    "To see the wavefunctions run the following code. The m matrix will be very important for the RBM solution. The more alphas, the more functions graphed. "
   ]
  },
  {
   "cell_type": "code",
   "execution_count": null,
   "metadata": {},
   "outputs": [
    {
     "ename": "KeyboardInterrupt",
     "evalue": "",
     "output_type": "error",
     "traceback": [
      "\u001b[0;31m---------------------------------------------------------------------------\u001b[0m",
      "\u001b[0;31mKeyboardInterrupt\u001b[0m                         Traceback (most recent call last)",
      "Cell \u001b[0;32mIn[38], line 9\u001b[0m\n\u001b[1;32m      7\u001b[0m \u001b[38;5;28;01mfor\u001b[39;00m i \u001b[38;5;129;01min\u001b[39;00m \u001b[38;5;28mrange\u001b[39m(\u001b[38;5;28mlen\u001b[39m(alphaList)):\n\u001b[1;32m      8\u001b[0m     alpha \u001b[38;5;241m=\u001b[39m alphaList[i]\n\u001b[0;32m----> 9\u001b[0m     evals, evects, t1me, m_val \u001b[38;5;241m=\u001b[39m \u001b[43mfdm_instance\u001b[49m\u001b[38;5;241;43m.\u001b[39;49m\u001b[43mHO_solver\u001b[49m\u001b[43m(\u001b[49m\u001b[43malpha\u001b[49m\u001b[43m)\u001b[49m\n\u001b[1;32m     10\u001b[0m     m[i] \u001b[38;5;241m=\u001b[39m m_val\n\u001b[1;32m     12\u001b[0m \u001b[38;5;66;03m# We graph the wavefunctions below\u001b[39;00m\n",
      "Cell \u001b[0;32mIn[30], line 61\u001b[0m, in \u001b[0;36mFDM.HO_solver\u001b[0;34m(self, alpha)\u001b[0m\n\u001b[1;32m     59\u001b[0m H \u001b[38;5;241m=\u001b[39m \u001b[38;5;28mself\u001b[39m\u001b[38;5;241m.\u001b[39mHO_creator(alpha)\n\u001b[1;32m     60\u001b[0m evals, evects \u001b[38;5;241m=\u001b[39m np\u001b[38;5;241m.\u001b[39mlinalg\u001b[38;5;241m.\u001b[39meigh(H)\n\u001b[0;32m---> 61\u001b[0m solveTime \u001b[38;5;241m=\u001b[39m \u001b[38;5;28;43mself\u001b[39;49m\u001b[38;5;241;43m.\u001b[39;49m\u001b[43mtiming\u001b[49m\u001b[43m(\u001b[49m\u001b[43mH\u001b[49m\u001b[43m)\u001b[49m\n\u001b[1;32m     62\u001b[0m evects\u001b[38;5;241m=\u001b[39m evects\u001b[38;5;241m.\u001b[39mT\n\u001b[1;32m     63\u001b[0m m_val \u001b[38;5;241m=\u001b[39m evects[\u001b[38;5;241m0\u001b[39m] \u001b[38;5;241m/\u001b[39m np\u001b[38;5;241m.\u001b[39mlinalg\u001b[38;5;241m.\u001b[39mnorm(evects[\u001b[38;5;241m0\u001b[39m])\u001b[38;5;241m*\u001b[39mnp\u001b[38;5;241m.\u001b[39msign(evects[\u001b[38;5;241m0\u001b[39m][  \u001b[38;5;28mint\u001b[39m(\u001b[38;5;28mlen\u001b[39m(\u001b[38;5;28mself\u001b[39m\u001b[38;5;241m.\u001b[39mx)\u001b[38;5;241m/\u001b[39m\u001b[38;5;241m2\u001b[39m) ])\n",
      "Cell \u001b[0;32mIn[30], line 51\u001b[0m, in \u001b[0;36mFDM.timing\u001b[0;34m(self, H)\u001b[0m\n\u001b[1;32m     49\u001b[0m \u001b[38;5;28;01mfor\u001b[39;00m i \u001b[38;5;129;01min\u001b[39;00m \u001b[38;5;28mrange\u001b[39m(\u001b[38;5;28mself\u001b[39m\u001b[38;5;241m.\u001b[39mtimingInt):\n\u001b[1;32m     50\u001b[0m     time0 \u001b[38;5;241m=\u001b[39m time\u001b[38;5;241m.\u001b[39mtime()\n\u001b[0;32m---> 51\u001b[0m     evals, evects \u001b[38;5;241m=\u001b[39m \u001b[43mnp\u001b[49m\u001b[38;5;241;43m.\u001b[39;49m\u001b[43mlinalg\u001b[49m\u001b[38;5;241;43m.\u001b[39;49m\u001b[43meigh\u001b[49m\u001b[43m(\u001b[49m\u001b[43mH\u001b[49m\u001b[43m)\u001b[49m\n\u001b[1;32m     52\u001b[0m     time1 \u001b[38;5;241m=\u001b[39m time\u001b[38;5;241m.\u001b[39mtime()\n\u001b[1;32m     53\u001b[0m     solveTime\u001b[38;5;241m.\u001b[39mappend(time1 \u001b[38;5;241m-\u001b[39m time0)\n",
      "File \u001b[0;32m~/.local/lib/python3.10/site-packages/numpy/linalg/linalg.py:1487\u001b[0m, in \u001b[0;36meigh\u001b[0;34m(a, UPLO)\u001b[0m\n\u001b[1;32m   1484\u001b[0m     gufunc \u001b[38;5;241m=\u001b[39m _umath_linalg\u001b[38;5;241m.\u001b[39meigh_up\n\u001b[1;32m   1486\u001b[0m signature \u001b[38;5;241m=\u001b[39m \u001b[38;5;124m'\u001b[39m\u001b[38;5;124mD->dD\u001b[39m\u001b[38;5;124m'\u001b[39m \u001b[38;5;28;01mif\u001b[39;00m isComplexType(t) \u001b[38;5;28;01melse\u001b[39;00m \u001b[38;5;124m'\u001b[39m\u001b[38;5;124md->dd\u001b[39m\u001b[38;5;124m'\u001b[39m\n\u001b[0;32m-> 1487\u001b[0m w, vt \u001b[38;5;241m=\u001b[39m \u001b[43mgufunc\u001b[49m\u001b[43m(\u001b[49m\u001b[43ma\u001b[49m\u001b[43m,\u001b[49m\u001b[43m \u001b[49m\u001b[43msignature\u001b[49m\u001b[38;5;241;43m=\u001b[39;49m\u001b[43msignature\u001b[49m\u001b[43m,\u001b[49m\u001b[43m \u001b[49m\u001b[43mextobj\u001b[49m\u001b[38;5;241;43m=\u001b[39;49m\u001b[43mextobj\u001b[49m\u001b[43m)\u001b[49m\n\u001b[1;32m   1488\u001b[0m w \u001b[38;5;241m=\u001b[39m w\u001b[38;5;241m.\u001b[39mastype(_realType(result_t), copy\u001b[38;5;241m=\u001b[39m\u001b[38;5;28;01mFalse\u001b[39;00m)\n\u001b[1;32m   1489\u001b[0m vt \u001b[38;5;241m=\u001b[39m vt\u001b[38;5;241m.\u001b[39mastype(result_t, copy\u001b[38;5;241m=\u001b[39m\u001b[38;5;28;01mFalse\u001b[39;00m)\n",
      "\u001b[0;31mKeyboardInterrupt\u001b[0m: "
     ]
    }
   ],
   "source": [
    "# h is arbitrarily chosen, but it takes longer to run for a smaller value\n",
    "h = 10**-2\n",
    "fdm_instance = FDM(h, timingInt)\n",
    "x, x_shape = fdm_instance.xShape()\n",
    "# The different solutions are stored in the m matrix\n",
    "m = np.zeros((len(alphaList), x_shape))\n",
    "for i in range(len(alphaList)):\n",
    "    alpha = alphaList[i]\n",
    "    evals, evects, t1me, m_val = fdm_instance.HO_solver(alpha)\n",
    "    m[i] = m_val\n",
    "\n",
    "# We graph the wavefunctions below\n",
    "    \n",
    "fig, ax = plt.subplots(dpi=300)\n",
    "\n",
    "for i in range(len(m)):\n",
    "    ax.plot(x, m[i])\n",
    "\n",
    "ax.set_title(\"Super Plot :)\")\n",
    "ax.set_xlabel(\"x\")\n",
    "ax.set_ylabel(\"Wave Functions\")\n",
    "\n",
    "plt.show()\n"
   ]
  },
  {
   "cell_type": "markdown",
   "metadata": {},
   "source": [
    "#### Comparison to Exact\n",
    "In the code below, we will graph the data we collected for the times and errors of solving with the high fidelity solution. "
   ]
  },
  {
   "cell_type": "code",
   "execution_count": null,
   "metadata": {},
   "outputs": [
    {
     "name": "stderr",
     "output_type": "stream",
     "text": [
      "/tmp/ipykernel_2561/3077631980.py:22: UserWarning: Attempt to set non-positive xlim on a log-scaled axis will be ignored.\n",
      "  catAx.set(xscale='log',yscale='log',\n",
      "/tmp/ipykernel_2561/3077631980.py:22: UserWarning: Attempt to set non-positive ylim on a log-scaled axis will be ignored.\n",
      "  catAx.set(xscale='log',yscale='log',\n"
     ]
    },
    {
     "data": {
      "image/png": "[encoded data removed]",
      "text/plain": [
       "<Figure size 640x480 with 1 Axes>"
      ]
     },
     "metadata": {},
     "output_type": "display_data"
    }
   ],
   "source": [
    "hminT = min(minTimes) - 10\n",
    "hmaxT = max(maxTimes) + 10\n",
    "hminEr = min(minErr) - 10\n",
    "hmaxEr = max(maxErr) + 10 \n",
    "\n",
    "hcolors = [\n",
    "    \"#9467bd\",  # Purple\n",
    "    \"#1a9850\",  # Emerald Green\n",
    "    \"#d73027\",  # Crimson Red\n",
    "    \"#4575b4\",  # Steel Blue\n",
    "    \"#fdae61\",  # Apricot\n",
    "    \"#313695\"   # Midnight Blue\n",
    "]\n",
    "\n",
    "catFig, catAx = plt.subplots()\n",
    "\n",
    "for i in range(len(h_list)):\n",
    "    label = \"HF h = \" + str(h_list[i])\n",
    "    catAx.scatter(htimes[i],herrors[i],color=hcolors[i],\n",
    "               marker='.',label=label)\n",
    "\n",
    "catAx.set(xscale='log',yscale='log',\n",
    "           xlabel='Time (s)',ylabel='Eigenvalue Relative Error',\n",
    "           xlim=(hminT, hmaxT),ylim=(hminEr,hmaxEr))\n",
    "\n",
    "plt.legend()\n",
    "plt.show()"
   ]
  },
  {
   "cell_type": "markdown",
   "metadata": {},
   "source": [
    "### Reduced Basis Method\n",
    "FDM is super cool, and it's great that we were able to do that. But, what if we can make it faster? In a simple system like this, speed isn't the biggest deal in the world. However, in more complicated systems, time becomes much more important, and speeding up the system is neccesary. The purpose of this chapter and overall book is to demonstrate a way of formulating the equation such that the time to solve the equation is reduced."
   ]
  },
  {
   "cell_type": "markdown",
   "metadata": {},
   "source": [
    "#### M0, M1, and N Matrices\n",
    "\n",
    "We already have worked with the system represented by the following function:\n",
    "\n",
    "$$ (\\frac{d^2}{dx^2} + \\alpha x^2 - \\lambda )\\phi(x) = 0 $$\n",
    "\n",
    "However, we can put forth a reformulation of the math.\n",
    "\n",
    "Because we are solving an eigenvalue problem, we can arrive at a set of different-looking equations, using the same set of judges $\\{\\psi_i(x)\\}_{i=1}^n$ as before. We can simply plug $\\hat{\\phi}_{\\alpha_k}$ into the Schrodinger equation and project both sides onto the judges, writing\n",
    "\n",
    "\\begin{align}\n",
    "\\sum_{i=1}^na_i\\langle \\psi_j|H_{\\alpha_k}|\\phi_i\\rangle=\\lambda\\sum_{i=1}^na_i\\langle\\psi_j|\\phi_i\\rangle.\n",
    "\\end{align}\n",
    "\n",
    "Define now two matrices:\n",
    "\n",
    "\\begin{align}\n",
    "M_{ij}(\\alpha)\\equiv \\langle\\psi_j|H_\\alpha|\\phi_i\\rangle,\\quad N_{ij}\\equiv\\langle\\psi_j|\\phi_i\\rangle.\n",
    "\\end{align}\n",
    "\n",
    "These are both $n\\times n$ matrices, and we now have a generalized eigenvalue problem for $\\vec{a}$:\n",
    "\n",
    "\\begin{align}\n",
    "M(\\alpha)\\vec{a}=\\lambda N\\vec{a}.\n",
    "\\end{align}\n",
    "\n",
    "Situationally, this may be quicker to solve than finding the roots of the nonlinear system that results from the \"traditional\" RBM approach.\n",
    "\n",
    "As with traditional RBM approaches, this is only helpful if we can evaluate $M(\\alpha)$ quickly for different $\\alpha$ values. For the HO, this is not too hard: we can write\n",
    "\n",
    "\\begin{align}\n",
    "\\langle\\psi_j|H_\\alpha|\\phi_i\\rangle=\\langle\\psi_j|T|\\phi_i\\rangle+\\alpha\\langle \\psi_j|x^2|\\phi_i\\rangle\\equiv M_{ij}^{(0)}+\\alpha M_{ij}^{(1)}.\n",
    "\\end{align}\n",
    "\n",
    "Our eigenvalue equation is then\n",
    "\n",
    "\\begin{align}\n",
    "[M^{(0)}+\\alpha M^{(1)}]\\vec{a}=\\lambda N\\vec{a},\n",
    "\\end{align}\n",
    "\n",
    "and all of $M^{(0)},M^{(1)}$ and $N$ can be precomputed.\n",
    " \n",
    "A code implementation is given below.\n"
   ]
  },
  {
   "cell_type": "code",
   "execution_count": null,
   "metadata": {},
   "outputs": [],
   "source": [
    "class RBM:\n",
    "    def __init__(self, h, m, components):\n",
    "        # Since we create the kinetic and potential energy terms, we use the h value\n",
    "        self.m = m\n",
    "        self.h = h\n",
    "        self.components = components\n",
    "        self.psi = np.array(self.getReducedBasis())\n",
    "        self.phi = self.psi\n",
    "        self.x_max = 10.0\n",
    "        self.x = np.arange(-self.x_max, self.x_max + h, h)\n",
    "        self.d2 = self.second_derivative_matrix()\n",
    "        self.pot = self.potential_matrix()\n",
    "        self.compvec = np.zeros(components)\n",
    "        self.array = self.create_array()\n",
    "        self.M_0 = np.array(self.array)\n",
    "        self.M_1 = np.array(self.array)\n",
    "        self.N = np.array(self.array)\n",
    "        for i in range(self.components):\n",
    "            for j in range(i, self.components):\n",
    "                self.M_0[i][j] = self.phi[i] @ self.d2 @ self.psi[j]\n",
    "                self.M_0[j][i] = self.M_0[i][j]\n",
    "                self.M_1[i][j] = self.phi[i] @ self.pot @ self.psi[j]\n",
    "                self.M_1[j][i] = self.M_1[i][j]\n",
    "        self.create_N()\n",
    "\n",
    "    def create_array(self):\n",
    "        # We use this to create a component x component long matrix\n",
    "        array = []\n",
    "        for i in range(self.components):\n",
    "            array.append(self.compvec)\n",
    "        return array\n",
    "    \n",
    "    def second_derivative_matrix(self):\n",
    "        # Once again, we create the second derivative matrix\n",
    "        size = len(self.x)\n",
    "        offDiag = np.zeros(size)\n",
    "        offDiag[1] = 1\n",
    "        \n",
    "        H = -1*(-2*np.identity(size) + linalg.toeplitz(offDiag))/self.h**2\n",
    "        return H\n",
    "\n",
    "    def potential_matrix(self):\n",
    "        # We create the potential energy matrix\n",
    "        return np.diag(self.x**2)\n",
    "\n",
    "    def getReducedBasis(self):\n",
    "        # We apply SVD to get the reduced basis based on the number of components\n",
    "        U, sigma, Vh = np.linalg.svd(self.m)\n",
    "        reduced_basis = Vh[:self.components]\n",
    "        return reduced_basis\n",
    "    \n",
    "    # Below we create the four matrices that we need, using np.dot to get the dot product between the phi and psi list\n",
    "    def M0(self, i, j):\n",
    "        M0 = np.dot(self.psi[j], np.dot(self.d2, self.phi[i]))\n",
    "        return M0\n",
    "\n",
    "    def M1(self, i, j):\n",
    "        M1 = np.dot(self.psi[j], np.dot(self.pot, self.phi[i]))\n",
    "        return M1\n",
    "    \n",
    "    # Note that this function takes in the alpha parameter \n",
    "    def create_H_hat(self, alpha):\n",
    "        H_hat = self.M_0 + alpha*self.M_1\n",
    "        return H_hat\n",
    "    \n",
    "    def create_N(self):\n",
    "        for i in range(self.components):\n",
    "            for j in range(i, self.components):\n",
    "                self.N[i,j] = self.phi[i] @ self.psi[j]\n",
    "                self.N[j,i] = self.N[i,j]\n",
    "\n",
    "    # Note that this function takes in the alpha parameter to pass it on to the create_H_hat() function\n",
    "    def RBM_solve(self, alpha):\n",
    "        H_hat = self.create_H_hat(alpha)\n",
    "        #self.create_N()\n",
    "        #evals, evects = np.linalg.eigvalsh(H_hat)\n",
    "        evals = np.linalg.eigvalsh(H_hat)\n",
    "        return evals, evects"
   ]
  },
  {
   "cell_type": "markdown",
   "metadata": {},
   "source": [
    "#### Compare Solutions \n",
    "We now compare the high fidelity solutions to the RBM solutions in terms of time and error. If all goes as planned, the high fidelity solutions should take more time and have a lower error, while the RBM solutions should have higher error and take less time. We will provide a comparison between the calculated eigenvalues and the exact eigenvalue created from our analytical solution. The graph of the solutions includes the number of components for the RBM solutions. "
   ]
  },
  {
   "cell_type": "code",
   "execution_count": null,
   "metadata": {},
   "outputs": [
    {
     "name": "stderr",
     "output_type": "stream",
     "text": [
      "/tmp/ipykernel_2561/526324150.py:66: UserWarning: Attempt to set non-positive xlim on a log-scaled axis will be ignored.\n",
      "  catAx.set(xscale='log',yscale='log',\n",
      "/tmp/ipykernel_2561/526324150.py:66: UserWarning: Attempt to set non-positive ylim on a log-scaled axis will be ignored.\n",
      "  catAx.set(xscale='log',yscale='log',\n"
     ]
    },
    {
     "data": {
      "image/png": "[encoded data removed]",
      "text/plain": [
       "<Figure size 640x480 with 1 Axes>"
      ]
     },
     "metadata": {},
     "output_type": "display_data"
    }
   ],
   "source": [
    "# We use the same alphas and h value as the high fidelity solution\n",
    "alphas = np.arange(0.5, 25, .25)\n",
    "h = 10**-2\n",
    "errors = []\n",
    "times = []\n",
    "colors = [\n",
    "    \"#1f77b4\",\n",
    "    \"#ff7f0e\",\n",
    "    \"#2ca02c\",\n",
    "    \"#d62728\",\n",
    "    \"#9467bd\",\n",
    "    \"#8c564b\",\n",
    "    \"#e377c2\",\n",
    "    \"#7f7f7f\",\n",
    "    \"#bcbd22\",\n",
    "    \"#17becf\",\n",
    "]\n",
    "catFig, catAx = plt.subplots()\n",
    "# We change the components and the alpha values for checking\n",
    "for comp in range(1,10):\n",
    "  # Once again we only need the one instance of the RBM class for each component\n",
    "  RBM_instance = RBM(h, m, comp)\n",
    "  for alpha in alphas:\n",
    "    # Instead of having a timing function, we do the timing calculation outside of the class\n",
    "    timeDif = 0\n",
    "    for it in range(10):\n",
    "      time1 = time.time()\n",
    "      evals, evects = RBM_instance.RBM_solve(alpha)\n",
    "      time2 = time.time()\n",
    "      timeDif += (time2 -time1)\n",
    "    timeDif /= 10\n",
    "    value = evals[0]\n",
    "    # To provide an accurate comparison we use the exact analytical solution\n",
    "    errorDif = abs(getExactLambda(alpha)-value)\n",
    "\n",
    "    times.append(timeDif)\n",
    "    if (alpha == alphas[0]):\n",
    "      catAx.scatter(timeDif,errorDif,color=colors[comp-1],\n",
    "            marker='.',label=str(comp))\n",
    "    else:\n",
    "      catAx.scatter(timeDif,errorDif,color=colors[comp-1],\n",
    "            marker='.')\n",
    "    errors.append(errorDif)\n",
    "\n",
    "maxT = hmaxT + 10\n",
    "minT = hminT - 10\n",
    "maxEr = max(errors) + 10\n",
    "minEr = min(errors) - 10\n",
    "\n",
    "\n",
    "hcolors = [\n",
    "    \"#9467bd\",  # Purple\n",
    "    \"#1a9850\",  # Emerald Green\n",
    "    \"#d73027\",  # Crimson Red\n",
    "    \"#4575b4\",  # Steel Blue\n",
    "    \"#fdae61\",  # Apricot\n",
    "    \"#313695\"   # Midnight Blue\n",
    "]\n",
    "\n",
    "\n",
    "for i in range(len(h_list)):\n",
    "    label = \"HF h = \" + str(h_list[i])\n",
    "    catAx.scatter(htimes[i],herrors[i],color=hcolors[i],\n",
    "               marker='.',label=label)\n",
    "\n",
    "catAx.set(xscale='log',yscale='log',\n",
    "           xlabel='Time (s)',ylabel='Eigenvalue Relative Error',\n",
    "           xlim=(hminT, hmaxT),ylim=(hminEr,hmaxEr))\n",
    "\n",
    "plt.legend()\n",
    "plt.show()\n"
   ]
  },
  {
   "cell_type": "markdown",
   "metadata": {},
   "source": []
  }
 ],
 "metadata": {
  "kernelspec": {
   "display_name": "Python 3",
   "language": "python",
   "name": "python3"
  },
  "language_info": {
   "codemirror_mode": {
    "name": "ipython",
    "version": 3
   },
   "file_extension": ".py",
   "mimetype": "text/x-python",
   "name": "python",
   "nbconvert_exporter": "python",
   "pygments_lexer": "ipython3",
   "version": "3.10.13"
  }
 },
 "nbformat": 4,
 "nbformat_minor": 2
}

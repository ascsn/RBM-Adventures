{
 "cells": [
  {
   "cell_type": "code",
   "execution_count": null,
   "metadata": {},
   "outputs": [],
   "source": []
  },
  {
   "cell_type": "markdown",
   "metadata": {},
   "source": [
    "M0 and M1 issues\n",
    "Change number of components to see the effect\n",
    "There should only be one eigenvalue, not two\n",
    "Alpha vectors should only be two values"
   ]
  },
  {
   "cell_type": "markdown",
   "id": "7e87508a-e47b-4c2f-8d02-222c6a39c7ac",
   "metadata": {},
   "source": [
    "\\begin{align}\n",
    "H_\\alpha\\phi(x)\\equiv \\bigg(-\\frac{d^2}{dx^2}+\\alpha x^2\\bigg)\\phi(x)=\\lambda\\phi(x),\\quad \\langle\\phi|\\phi\\rangle=1,\n",
    "\\end{align}"
   ]
  },
  {
   "cell_type": "markdown",
   "id": "9d184bb5-c5fd-4010-9bfb-d4424ce95695",
   "metadata": {},
   "source": [
    "\\begin{align}\n",
    "T\\phi(x)=-\\frac{d^2}{dx^2}\\phi(x),\\quad V_\\alpha(x)\\phi(x)=\\alpha x^2\\phi(x),\\quad H_\\alpha(x)=T+V(x).\n",
    "\\end{align}"
   ]
  },
  {
   "cell_type": "markdown",
   "id": "229ba1e1-72d8-48ca-ad21-e26dda7f4a4c",
   "metadata": {},
   "source": [
    "\n",
    "\\begin{align}\n",
    "\\bigg(-\\frac{d^2}{dx^2}+\\alpha x^2-\\lambda\\bigg)\\phi(x)\\equiv F_\\alpha(\\phi(x))=0,\n",
    "\\end{align}\n",
    "\n",
    "\n",
    "\\begin{align}\n",
    "F_\\alpha(\\phi(x))=0,\\quad\\langle\\phi|\\phi\\rangle=1.\n",
    "\\end{align}\n",
    "\n",
    "\\begin{align}\n",
    "\t\\hat{\\phi}_{\\alpha_{k}}(x) = \\sum_{i=1}^{n} a_{i} \\phi_{i}(x) .\n",
    "\\end{align}"
   ]
  },
  {
   "cell_type": "markdown",
   "id": "4da11a15-e15e-43cb-9bd3-80fae8469da5",
   "metadata": {},
   "source": [
    "Because we are solving an eigenvalue problem, we can arrive at a set of different-looking equations, using the same set of judges $\\{\\psi_i(x)\\}_{i=1}^n$ as before. We can simply plug $\\hat{\\phi}_{\\alpha_k}$ into the Schrodinger equation and project both sides onto the judges, writing\n",
    "\n",
    "\\begin{align}\n",
    "\\sum_{i=1}^na_i\\langle \\psi_j|H_{\\alpha_k}|\\phi_i\\rangle=\\lambda\\sum_{i=1}^na_i\\langle\\psi_j|\\phi_i\\rangle.\n",
    "\\end{align}\n",
    "\n",
    "Define now two matrices:\n",
    "\n",
    "\\begin{align}\n",
    "M_{ij}(\\alpha)\\equiv \\langle\\psi_j|H_\\alpha|\\phi_i\\rangle,\\quad N_{ij}\\equiv\\langle\\psi_j|\\phi_i\\rangle.\n",
    "\\end{align}\n",
    "\n",
    "These are both $n\\times n$ matrices, and we now have a generalized eigenvalue problem for $\\vec{a}$:\n",
    "\n",
    "\\begin{align}\n",
    "M(\\alpha)\\vec{a}=\\lambda N\\vec{a}.\n",
    "\\end{align}\n",
    "\n",
    "Situationally, this may be quicker to solve than finding the roots of the nonlinear system that results from the \"traditional\" RBM approach.\n",
    "\n",
    "As with traditional RBM approaches, this is only helpful if we can evaluate $M(\\alpha)$ quickly for different $\\alpha$ values. For the HO, this is not too hard: we can write\n",
    "\n",
    "\\begin{align}\n",
    "\\langle\\psi_j|H_\\alpha|\\phi_i\\rangle=\\langle\\psi_j|T|\\phi_i\\rangle+\\alpha\\langle \\psi_j|x^2|\\phi_i\\rangle\\equiv M_{ij}^{(0)}+\\alpha M_{ij}^{(1)}.\n",
    "\\end{align}\n",
    "\n",
    "Our eigenvalue equation is then\n",
    "\n",
    "\\begin{align}\n",
    "[M^{(0)}+\\alpha M^{(1)}]\\vec{a}=\\lambda N\\vec{a},\n",
    "\\end{align}\n",
    "\n",
    "and all of $M^{(0)},M^{(1)}$ and $N$ can be precomputed."
   ]
  },
  {
   "cell_type": "code",
   "execution_count": 1,
   "id": "6236ef9f-9fb7-418b-b5e0-0179920af9e7",
   "metadata": {},
   "outputs": [],
   "source": [
    "import numpy as np\n",
    "from scipy import linalg\n",
    "import scipy\n",
    "import matplotlib.pyplot as plt\n",
    "import time as ti"
   ]
  },
  {
   "cell_type": "code",
   "execution_count": 2,
   "id": "b83640f9",
   "metadata": {},
   "outputs": [],
   "source": [
    "alphas =  [.5,2,5,7,10,15]\n",
    "x_max = 10.0\n",
    "h = 10**(-2)\n",
    "x = np.arange(-x_max, x_max + h, h)\n",
    "m = np.zeros((len(alphas), x.shape[0]))"
   ]
  },
  {
   "cell_type": "code",
   "execution_count": 3,
   "id": "6908d0ca-5730-4a7c-a90e-a106bdf50439",
   "metadata": {},
   "outputs": [],
   "source": [
    "# Second Derivative\n",
    "# Potential Matrix\n",
    "\n",
    "def second_derivative_matrix(xgrid):\n",
    "    size = len(xgrid)\n",
    "    offDiag = np.zeros(size)\n",
    "    offDiag[1] = 1\n",
    "        \n",
    "    H = -1*(-2*np.identity(size) + scipy.linalg.toeplitz(offDiag))/h**2\n",
    "    return H\n",
    "        \n",
    "\n",
    "def potential_matrix(xgrid):\n",
    "    return np.diag(xgrid**2)\n",
    "\n",
    "def H_creator(alpha, xgrid):\n",
    "    d2 = second_derivative_matrix(xgrid)\n",
    "    pot = potential_matrix(xgrid)\n",
    "    H = d2 + alpha*pot\n",
    "    return H\n",
    "\n",
    "def hf_solve(H):\n",
    "    evals, evects = np.linalg.eigh(H)\n",
    "    return evals, evects\n"
   ]
  },
  {
   "cell_type": "code",
   "execution_count": 4,
   "id": "776aae44-635a-4cc7-b2ec-80b6ecb0dc49",
   "metadata": {},
   "outputs": [
    {
     "name": "stdout",
     "output_type": "stream",
     "text": [
      "[[ 4.00124646e-18 -4.70187724e-17 -3.86308572e-16 ... -2.94401912e-03\n",
      "   3.04336954e-03  0.00000000e+00]\n",
      " [ 8.02148928e-18 -9.45805592e-17 -7.74420299e-16 ...  5.88277628e-03\n",
      "  -6.08356317e-03  0.00000000e+00]\n",
      " [ 1.20828679e-17 -1.41994446e-16 -1.16611369e-15 ... -8.81107772e-03\n",
      "   9.11746907e-03  0.00000000e+00]\n",
      " ...\n",
      " [ 1.20833213e-17  1.41503908e-16 -1.16611035e-15 ...  0.00000000e+00\n",
      "   0.00000000e+00  9.11746907e-03]\n",
      " [ 8.02284198e-18  9.39725880e-17 -7.74418462e-16 ...  0.00000000e+00\n",
      "   0.00000000e+00 -6.08356317e-03]\n",
      " [ 4.00151563e-18  4.68950659e-17 -3.86309226e-16 ...  0.00000000e+00\n",
      "   0.00000000e+00  3.04336954e-03]]\n",
      "[[-1.66909538e-21 -4.08481639e-19 -6.01567100e-21 ... -6.05916518e-03\n",
      "   0.00000000e+00  6.17781173e-03]\n",
      " [-2.79628406e-21 -6.84587910e-19 -1.00841588e-20 ...  1.20905388e-02\n",
      "   0.00000000e+00 -1.23392798e-02]\n",
      " [-3.05865541e-21 -7.50735889e-19 -1.08842493e-20 ... -1.80669401e-02\n",
      "   0.00000000e+00  1.84685970e-02]\n",
      " ...\n",
      " [ 1.27659818e-21  2.48193888e-19  4.04263845e-21 ...  0.00000000e+00\n",
      "   1.84685970e-02  0.00000000e+00]\n",
      " [ 4.60326011e-22  6.38715782e-20  1.36153929e-21 ...  0.00000000e+00\n",
      "  -1.23392798e-02  0.00000000e+00]\n",
      " [ 5.16160702e-22  9.56353137e-20  1.68165819e-21 ...  0.00000000e+00\n",
      "   6.17781173e-03  0.00000000e+00]]\n",
      "[[ 1.49347460e-21  2.81532576e-19  5.58719145e-21 ... -9.69274155e-03\n",
      "   0.00000000e+00  9.82936032e-03]\n",
      " [ 3.21504425e-21  6.10790164e-19  1.19659947e-20 ...  1.93030935e-02\n",
      "   0.00000000e+00 -1.96108358e-02]\n",
      " [ 1.37828970e-21  2.51515846e-19  5.69265698e-21 ... -2.87512959e-02\n",
      "   0.00000000e+00  2.92987350e-02]\n",
      " ...\n",
      " [-2.19606113e-21 -3.88814593e-19 -7.71097767e-21 ...  0.00000000e+00\n",
      "   2.92987350e-02  0.00000000e+00]\n",
      " [-1.98874899e-21 -3.47257039e-19 -6.54548019e-21 ...  0.00000000e+00\n",
      "  -1.96108358e-02  0.00000000e+00]\n",
      " [-1.09529053e-21 -1.90158897e-19 -3.63090930e-21 ...  0.00000000e+00\n",
      "   9.82936032e-03  0.00000000e+00]]\n",
      "[[-9.46915006e-22 -1.47780780e-19 -3.31285835e-21 ... -1.15062710e-02\n",
      "   0.00000000e+00  1.16510134e-02]\n",
      " [-1.64402147e-21 -2.57286258e-19 -5.77372068e-21 ...  2.28899874e-02\n",
      "   0.00000000e+00 -2.32310617e-02]\n",
      " [-2.23007893e-21 -3.70471035e-19 -7.75688619e-21 ... -3.40331033e-02\n",
      "   0.00000000e+00  3.46728630e-02]\n",
      " ...\n",
      " [ 2.24227985e-21  3.29125240e-19  7.45289732e-21 ...  0.00000000e+00\n",
      "   3.46728630e-02  0.00000000e+00]\n",
      " [ 1.69944257e-21  2.62474335e-19  5.98878763e-21 ...  0.00000000e+00\n",
      "  -2.32310617e-02  0.00000000e+00]\n",
      " [-7.56249875e-22 -1.45319090e-19 -2.61058201e-21 ...  0.00000000e+00\n",
      "   1.16510134e-02  0.00000000e+00]]\n",
      "[[-4.23102883e-22 -6.28392568e-20 -1.45501070e-21 ... -1.37937340e-02\n",
      "   0.00000000e+00  1.39483564e-02]\n",
      " [ 7.03930701e-22  1.05879118e-19  2.30948827e-21 ...  2.74009579e-02\n",
      "   0.00000000e+00 -2.77891116e-02]\n",
      " [ 1.92112697e-22  4.70367984e-20  9.88894422e-22 ... -4.06431606e-02\n",
      "   0.00000000e+00  4.14210493e-02]\n",
      " ...\n",
      " [-5.50623115e-21 -8.99522520e-19 -1.97228809e-20 ...  0.00000000e+00\n",
      "   4.14210493e-02  0.00000000e+00]\n",
      " [-3.81475019e-21 -6.33951221e-19 -1.36335909e-20 ...  0.00000000e+00\n",
      "  -2.77891116e-02  0.00000000e+00]\n",
      " [-2.54854347e-21 -4.11075677e-19 -9.26194132e-21 ...  0.00000000e+00\n",
      "   1.39483564e-02  0.00000000e+00]]\n",
      "[[-1.66263303e-22 -2.98049718e-20 -5.60828455e-22 ... -1.69417945e-02\n",
      "   0.00000000e+00 -1.71097865e-02]\n",
      " [-1.74493750e-21 -2.72162274e-19 -6.33289477e-21 ...  3.35833214e-02\n",
      "   0.00000000e+00  3.40470280e-02]\n",
      " [-4.40928626e-21 -6.70797155e-19 -1.60580572e-20 ... -4.96397048e-02\n",
      "   0.00000000e+00 -5.06511283e-02]\n",
      " ...\n",
      " [ 4.18801544e-21  6.08143186e-19  1.46324114e-20 ...  0.00000000e+00\n",
      "  -5.06511283e-02  0.00000000e+00]\n",
      " [ 3.46547318e-21  5.16795977e-19  1.24308702e-20 ...  0.00000000e+00\n",
      "   3.40470280e-02  0.00000000e+00]\n",
      " [ 6.52231913e-22  1.08367278e-19  2.54688911e-21 ...  0.00000000e+00\n",
      "  -1.71097865e-02  0.00000000e+00]]\n"
     ]
    }
   ],
   "source": [
    "alphas =  [.5,2,5,7,10,15]\n",
    "for i,alpha in enumerate(alphas):\n",
    "    alpha = alphas[i]\n",
    "    H = H_creator(alpha, x)\n",
    "    evals, evects = hf_solve(H)\n",
    "    print(evects)\n",
    "    # m[i] = evects[0] / np.linalg.norm(evects[0])*np.sign(evects[0][  int(len(x)/2)  ])\n",
    "    m[i] = evects[:,0] "
   ]
  },
  {
   "cell_type": "code",
   "execution_count": 5,
   "id": "31f034ca",
   "metadata": {},
   "outputs": [
    {
     "data": {
      "text/plain": [
       "array([[ 4.00124646e-18,  8.02148928e-18,  1.20828679e-17, ...,\n",
       "         1.20833213e-17,  8.02284198e-18,  4.00151563e-18],\n",
       "       [-1.66909538e-21, -2.79628406e-21, -3.05865541e-21, ...,\n",
       "         1.27659818e-21,  4.60326011e-22,  5.16160702e-22],\n",
       "       [ 1.49347460e-21,  3.21504425e-21,  1.37828970e-21, ...,\n",
       "        -2.19606113e-21, -1.98874899e-21, -1.09529053e-21],\n",
       "       [-9.46915006e-22, -1.64402147e-21, -2.23007893e-21, ...,\n",
       "         2.24227985e-21,  1.69944257e-21, -7.56249875e-22],\n",
       "       [-4.23102883e-22,  7.03930701e-22,  1.92112697e-22, ...,\n",
       "        -5.50623115e-21, -3.81475019e-21, -2.54854347e-21],\n",
       "       [-1.66263303e-22, -1.74493750e-21, -4.40928626e-21, ...,\n",
       "         4.18801544e-21,  3.46547318e-21,  6.52231913e-22]])"
      ]
     },
     "execution_count": 5,
     "metadata": {},
     "output_type": "execute_result"
    }
   ],
   "source": [
    "m"
   ]
  },
  {
   "cell_type": "code",
   "execution_count": 6,
   "id": "a681433b-d7de-49e5-8f6b-b844078a5f2c",
   "metadata": {},
   "outputs": [
    {
     "name": "stdout",
     "output_type": "stream",
     "text": [
      "6\n"
     ]
    }
   ],
   "source": [
    "U, sigma, Vh = np.linalg.svd(m)\n",
    "#components = 3\n",
    "components = len(m)\n",
    "print(components)\n",
    "reduced_basis = Vh[:components]\n",
    "\n",
    "# reduced_basis = [reduced_basis[i]*np.sign(reduced_basis[i][  int(len(x)/2)  ]) for i in range(len(reduced_basis))]"
   ]
  },
  {
   "cell_type": "code",
   "execution_count": 7,
   "id": "1f49dcb1-cae5-45e5-96db-a26a1492f5ba",
   "metadata": {},
   "outputs": [
    {
     "name": "stdout",
     "output_type": "stream",
     "text": [
      "[[ 4.00124646e-18  8.02148928e-18  1.20828679e-17 ...  1.20833213e-17\n",
      "   8.02284198e-18  4.00151563e-18]\n",
      " [-1.66909538e-21 -2.79628406e-21 -3.05865541e-21 ...  1.27659818e-21\n",
      "   4.60326011e-22  5.16160702e-22]\n",
      " [ 1.49347460e-21  3.21504425e-21  1.37828970e-21 ... -2.19606113e-21\n",
      "  -1.98874899e-21 -1.09529053e-21]\n",
      " [-9.46915006e-22 -1.64402147e-21 -2.23007893e-21 ...  2.24227985e-21\n",
      "   1.69944257e-21 -7.56249875e-22]\n",
      " [-4.23102883e-22  7.03930701e-22  1.92112697e-22 ... -5.50623115e-21\n",
      "  -3.81475019e-21 -2.54854347e-21]\n",
      " [-1.66263303e-22 -1.74493750e-21 -4.40928626e-21 ...  4.18801544e-21\n",
      "   3.46547318e-21  6.52231913e-22]]\n"
     ]
    }
   ],
   "source": [
    "psi = np.array(reduced_basis)\n",
    "phi = np.array(reduced_basis)\n",
    "#psi = m\n",
    "#phi = m\n",
    "print(m)"
   ]
  },
  {
   "cell_type": "code",
   "execution_count": 8,
   "id": "05028385-5724-40b6-93ec-8266a045661b",
   "metadata": {},
   "outputs": [],
   "source": [
    "d2 = second_derivative_matrix(x)\n",
    "pot = potential_matrix(x)"
   ]
  },
  {
   "cell_type": "code",
   "execution_count": 9,
   "id": "e6c45cdf-533a-4f3c-bbc1-bb7bd8ab1da6",
   "metadata": {},
   "outputs": [],
   "source": [
    "# def M0(psi, phi, d2, i, j):\n",
    "#     inner_product = np.dot(psi[j], phi[i])\n",
    "#     result_vector = np.dot(d2, psi[j])\n",
    "#     M0 = np.dot(result_vector, phi[i])\n",
    "#     return M0\n",
    "\n",
    "def M0(psi, phi, d2, i, j):\n",
    "    M0 = np.dot(psi[j], np.dot(d2, phi[i]))\n",
    "    return M0"
   ]
  },
  {
   "cell_type": "code",
   "execution_count": 10,
   "id": "1aa7e34b-3ca6-47f0-bc59-4998a45c75a1",
   "metadata": {},
   "outputs": [],
   "source": [
    "# def M1(psi, phi, pot, i, j):\n",
    "#     inner_product = np.dot(psi[j], phi[i])\n",
    "#     result_vector = np.dot(pot, psi[j])\n",
    "#     M1 = np.dot(result_vector, phi[i])\n",
    "#     return M1\n",
    "\n",
    "def M1(psi, phi, pot, i, j):\n",
    "    M1 = np.dot(psi[j], np.dot(pot, phi[i]))\n",
    "    return M1"
   ]
  },
  {
   "cell_type": "code",
   "execution_count": 11,
   "id": "58deed5b-e0eb-46e9-9179-0ebdbb4a45a8",
   "metadata": {},
   "outputs": [
    {
     "name": "stdout",
     "output_type": "stream",
     "text": [
      "6\n"
     ]
    }
   ],
   "source": [
    "compvec = np.zeros(components)\n",
    "array = []\n",
    "for i in range(components):\n",
    "    array.append(compvec)\n",
    "H_hat = np.array(array)\n",
    "M1 = np.array(array)\n",
    "M2 = np.array(array)\n",
    "print(len(H_hat))\n",
    "N = np.array(array)\n"
   ]
  },
  {
   "cell_type": "markdown",
   "id": "32c5ef0e",
   "metadata": {},
   "source": [
    "[ ⟨𝜓₀|d2|𝜙₀⟩ + α⟨𝜓₁|pot|𝜙₀⟩   ⟨𝜓₁|d2|𝜙₀⟩ + α⟨𝜓₁|pot|𝜙₀⟩   ⟨𝜓₂|d2|𝜙₀⟩ + α⟨𝜓₂|pot|𝜙₀⟩ ]\n",
    "[ ⟨𝜓₀|d2|𝜙₁⟩ + α⟨𝜓₀|pot|𝜙₁⟩   ⟨𝜓₁|d2|𝜙₁⟩ + α⟨𝜓₁|pot|𝜙₁⟩   ⟨𝜓₂|d2|𝜙₁⟩ + α⟨𝜓₂|pot|𝜙₁⟩ ]\n",
    "[ ⟨𝜓₀|d2|𝜙₂⟩ + α⟨𝜓₀|pot|𝜙₂⟩   ⟨𝜓₁|d2|𝜙₂⟩ + α⟨𝜓₁|pot|𝜙₂⟩   ⟨𝜓₂|d2|𝜙₂⟩ + α⟨𝜓₂|pot|𝜙₂⟩ ]"
   ]
  },
  {
   "cell_type": "markdown",
   "id": "7c647e25",
   "metadata": {},
   "source": [
    "\\begin{align}\n",
    "\\sum_{i=1}^na_i\\langle \\psi_j|H_{\\alpha_k}|\\phi_i\\rangle=\\lambda\\sum_{i=1}^na_i\\langle\\psi_j|\\phi_i\\rangle.\n",
    "\\end{align}\n",
    "\n",
    "Define now two matrices:\n",
    "\n",
    "\\begin{align}\n",
    "M_{ij}(\\alpha)\\equiv \\langle\\psi_j|H_\\alpha|\\phi_i\\rangle,\\quad N_{ij}\\equiv\\langle\\psi_j|\\phi_i\\rangle.\n",
    "\\end{align}\n",
    "\n",
    "\n",
    "\\begin{align}\n",
    "\\langle\\psi_j|H_\\alpha|\\phi_i\\rangle=\\langle\\psi_j|T|\\phi_i\\rangle+\\alpha\\langle \\psi_j|x^2|\\phi_i\\rangle\\equiv M_{ij}^{(0)}+\\alpha M_{ij}^{(1)}.\n",
    "\\end{align}\n"
   ]
  },
  {
   "cell_type": "code",
   "execution_count": 12,
   "id": "b3935ce6-f2e7-47d8-896a-cd4e4170e379",
   "metadata": {},
   "outputs": [],
   "source": [
    "def create_H_hat(alpha, phi, psi, pot, d2):\n",
    "    for i in range(components):\n",
    "        for j in range(len(H_hat[i])):\n",
    "            H_hat[i][j] = M0(psi, phi, d2, i, j) + alpha*M1(psi,phi,pot,i,j)\n",
    "    return H_hat"
   ]
  },
  {
   "cell_type": "code",
   "execution_count": 13,
   "id": "8b315745",
   "metadata": {},
   "outputs": [],
   "source": [
    "def create_H_hat(alpha, phi, psi, pot, d2):\n",
    "    for i in range(components):\n",
    "        for j in range(i, components):\n",
    "            M1[i][j] = phi[i] @ d2 @ psi[j]\n",
    "            M1[j][i] = M1[i][j]\n",
    "            M2[i][j] = phi[i] @ pot @ psi[j]\n",
    "            M2[j][i] = M2[i][j]\n",
    "    H_hat = M1 + alpha*M2\n",
    "    return H_hat\n"
   ]
  },
  {
   "cell_type": "code",
   "execution_count": 14,
   "id": "884920d7",
   "metadata": {},
   "outputs": [
    {
     "name": "stdout",
     "output_type": "stream",
     "text": [
      "[[ 20000. -10000.     -0. ...     -0.     -0.     -0.]\n",
      " [-10000.  20000. -10000. ...     -0.     -0.     -0.]\n",
      " [    -0. -10000.  20000. ...     -0.     -0.     -0.]\n",
      " ...\n",
      " [    -0.     -0.     -0. ...  20000. -10000.     -0.]\n",
      " [    -0.     -0.     -0. ... -10000.  20000. -10000.]\n",
      " [    -0.     -0.     -0. ...     -0. -10000.  20000.]]\n"
     ]
    }
   ],
   "source": [
    "print(d2)"
   ]
  },
  {
   "cell_type": "code",
   "execution_count": 15,
   "id": "c89ae7ba-be29-4e1c-9f8c-21187bc13847",
   "metadata": {},
   "outputs": [
    {
     "name": "stdout",
     "output_type": "stream",
     "text": [
      "2001\n"
     ]
    }
   ],
   "source": [
    "H_hat = create_H_hat(5, phi, psi, pot, d2)\n",
    "print(len(phi[i]))"
   ]
  },
  {
   "cell_type": "code",
   "execution_count": 16,
   "id": "f88801a8",
   "metadata": {},
   "outputs": [],
   "source": [
    "if phi.all() != psi.all():\n",
    "    print(\"???\")"
   ]
  },
  {
   "cell_type": "code",
   "execution_count": 17,
   "id": "fd48d528-af41-4672-bee5-08d840e23d4b",
   "metadata": {},
   "outputs": [],
   "source": [
    "def create_N(psi, phi):\n",
    "    for i in range(components):\n",
    "        for j in range(i, components):\n",
    "            N[i,j] = phi[i] @ psi[j]\n",
    "            N[j,i] = N[i,j]\n",
    "    return N"
   ]
  },
  {
   "cell_type": "code",
   "execution_count": 18,
   "id": "feaa7261-01d5-4ac0-a280-d598b73374da",
   "metadata": {},
   "outputs": [
    {
     "name": "stdout",
     "output_type": "stream",
     "text": [
      "[[ 1.00000000e+00  3.22287275e-17 -3.88443798e-17  5.59390481e-17\n",
      "   2.83258714e-17  3.39838293e-18]\n",
      " [ 3.22287275e-17  1.00000000e+00  1.04396190e-16  2.40204192e-17\n",
      "   3.88349393e-17  1.39343126e-17]\n",
      " [-3.88443798e-17  1.04396190e-16  1.00000000e+00 -2.68211286e-16\n",
      "   8.83524718e-17 -2.10286868e-19]\n",
      " [ 5.59390481e-17  2.40204192e-17 -2.68211286e-16  1.00000000e+00\n",
      "   6.21797206e-17  1.40321480e-17]\n",
      " [ 2.83258714e-17  3.88349393e-17  8.83524718e-17  6.21797206e-17\n",
      "   1.00000000e+00 -6.47326685e-17]\n",
      " [ 3.39838293e-18  1.39343126e-17 -2.10286868e-19  1.40321480e-17\n",
      "  -6.47326685e-17  1.00000000e+00]]\n"
     ]
    }
   ],
   "source": [
    "N = create_N(psi, phi)\n",
    "print(N)\n",
    "# for i in range(len(N)):\n",
    "#     for j in range(len(N[i])):\n",
    "#         if N[i][j] < .99999:\n",
    "#             N[i][j] = 0"
   ]
  },
  {
   "cell_type": "code",
   "execution_count": 19,
   "id": "e1844e46-6493-458e-a423-7cd661a4e584",
   "metadata": {},
   "outputs": [
    {
     "name": "stdout",
     "output_type": "stream",
     "text": [
      "2.2360367270631043\n"
     ]
    }
   ],
   "source": [
    "def solve(N, H_hat):\n",
    "    evals, evects = linalg.eigh(H_hat, b=N)\n",
    "    eigenvalue = evals[0]\n",
    "    return eigenvalue, evects\n",
    "\n",
    "eval, a_vecs = solve(N, H_hat)\n",
    "\n",
    "print(eval)"
   ]
  },
  {
   "cell_type": "code",
   "execution_count": 20,
   "id": "9dd4fd45-1c5e-49a2-894d-648fdd733414",
   "metadata": {},
   "outputs": [
    {
     "name": "stdout",
     "output_type": "stream",
     "text": [
      "2.23606797749979\n"
     ]
    }
   ],
   "source": [
    "def ExactEigenvalue(alpha):\n",
    "    return 2 * (.5) * np.sqrt(alpha / 1**2)\n",
    "print(ExactEigenvalue(5))"
   ]
  },
  {
   "cell_type": "code",
   "execution_count": 21,
   "id": "000eb2f5",
   "metadata": {},
   "outputs": [
    {
     "name": "stdout",
     "output_type": "stream",
     "text": [
      "2001\n"
     ]
    }
   ],
   "source": [
    "print(len(d2))"
   ]
  },
  {
   "cell_type": "code",
   "execution_count": 22,
   "id": "671c8960",
   "metadata": {},
   "outputs": [],
   "source": [
    "def RBM(alpha_k, N):\n",
    "  H_hat = create_H_hat(alpha_k, phi, psi, pot, d2)\n",
    "\n",
    "  time1 = ti.time()\n",
    "  evals, evects = linalg.eigh(H_hat, b=N)\n",
    "  print(evals[0])\n",
    "  time2 = ti.time()\n",
    "  timeDif = time2-time1\n",
    "  \n",
    "  errorDif = ExactEigenvalue(alpha_k)-evals[0]\n",
    "  \n",
    "  return timeDif, errorDif\n"
   ]
  },
  {
   "cell_type": "code",
   "execution_count": 23,
   "id": "123e4110",
   "metadata": {},
   "outputs": [
    {
     "name": "stdout",
     "output_type": "stream",
     "text": [
      "0.7071036561728243\n",
      "1.000005955517546\n",
      "1.2247369275879303\n",
      "1.4142010622626893\n",
      "1.5811233452163267\n",
      "1.732032204174434\n",
      "1.8708068920333465\n",
      "1.999975022092969\n",
      "2.12129222136989\n",
      "2.2360367270631043\n",
      "2.3451735050177325\n",
      "2.449452242934226\n",
      "2.5494691314075073\n",
      "2.645707560341161\n",
      "2.738565911961738\n",
      "2.828377124555361\n"
     ]
    },
    {
     "name": "stdout",
     "output_type": "stream",
     "text": [
      "2.9154228223840675\n",
      "2.999943749681648\n",
      "3.082147625615932\n",
      "3.162215158933079\n",
      "3.2403047233111355\n",
      "3.3165560408582864\n",
      "3.3910931194793825\n",
      "3.464026620993138\n",
      "3.5354557893692133\n",
      "3.605470035078429\n",
      "3.674150247726625\n",
      "3.7415698918891938\n",
      "3.8077959283998624\n",
      "3.8728895939379413\n"
     ]
    },
    {
     "name": "stderr",
     "output_type": "stream",
     "text": [
      "/tmp/ipykernel_3571/3558212965.py:20: UserWarning: Attempt to set non-positive xlim on a log-scaled axis will be ignored.\n",
      "  catAx.set(xscale='log',yscale='log',\n",
      "/tmp/ipykernel_3571/3558212965.py:20: UserWarning: Attempt to set non-positive ylim on a log-scaled axis will be ignored.\n",
      "  catAx.set(xscale='log',yscale='log',\n"
     ]
    },
    {
     "data": {
      "image/png": "[encoded data removed]",
      "text/plain": [
       "<Figure size 640x480 with 1 Axes>"
      ]
     },
     "metadata": {},
     "output_type": "display_data"
    }
   ],
   "source": [
    "alphas = np.arange(0.5, 15.5, 0.5)\n",
    "errors = []\n",
    "times = []\n",
    "for alpha in alphas:\n",
    "  time, error = RBM(alpha, N)\n",
    "  times.append(time)\n",
    "  errors.append(error)\n",
    "\n",
    "maxT = max(times) + 10\n",
    "minT = min(times) - 10\n",
    "maxEr = max(errors) + 10\n",
    "minEr = min(errors) - 10\n",
    "\n",
    "catFig, catAx = plt.subplots()\n",
    "\n",
    "# Blue is RBM\n",
    "catAx.scatter(times,errors,color='blue',\n",
    "               marker='.',label='RBM')\n",
    "\n",
    "catAx.set(xscale='log',yscale='log',\n",
    "           xlabel='Time (s)',ylabel='Eigenvalue Relative Error',\n",
    "           xlim=(minT, maxT),ylim=(minEr,maxEr))\n",
    "\n",
    "plt.legend()\n",
    "plt.show()"
   ]
  }
 ],
 "metadata": {
  "kernelspec": {
   "display_name": "Python 3 (ipykernel)",
   "language": "python",
   "name": "python3"
  },
  "language_info": {
   "codemirror_mode": {
    "name": "ipython",
    "version": 3
   },
   "file_extension": ".py",
   "mimetype": "text/x-python",
   "name": "python",
   "nbconvert_exporter": "python",
   "pygments_lexer": "ipython3",
   "version": "3.10.13"
  }
 },
 "nbformat": 4,
 "nbformat_minor": 5
}
